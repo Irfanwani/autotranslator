{
 "cells": [
  {
   "cell_type": "code",
   "execution_count": 30,
   "metadata": {},
   "outputs": [],
   "source": [
    "from playaudio import playaudio\n",
    "from speech_recognition import Recognizer, Microphone\n",
    "from googletrans import Translator\n",
    "from  gtts import gTTS\n",
    "import os"
   ]
  },
  {
   "cell_type": "code",
   "execution_count": 31,
   "metadata": {},
   "outputs": [],
   "source": [
    "dic={\n",
    "    'afrikaans': 'af', 'albanian': 'sq', 'amharic': 'am', 'arabic': 'ar', 'armenian': 'hy', 'azerbaijani': 'az', \n",
    "    'basque': 'eu', 'belarusian': 'be', 'bengali': 'bn', 'bosnian': 'bs', 'bulgarian': 'bg', 'catalan': 'ca', \n",
    "    'cebuano': 'ceb', 'chichewa': 'ny', 'chinese (simplified)': 'zh-cn', 'chinese (traditional)': 'zh-tw', \n",
    "    'corsican': 'co', 'croatian': 'hr', 'czech': 'cs', 'danish': 'da', 'dutch': 'nl', 'english': 'en', \n",
    "    'esperanto': 'eo', 'estonian': 'et', 'filipino': 'tl', 'finnish': 'fi', 'french': 'fr', 'frisian': 'fy', \n",
    "    'galician': 'gl', 'georgian': 'ka', 'german': 'de', 'greek': 'el', 'gujarati': 'gu', 'haitian creole': 'ht', \n",
    "    'hausa': 'ha', 'hawaiian': 'haw', 'hebrew': 'he', 'hindi': 'hi', 'hmong': 'hmn', 'hungarian': 'hu', \n",
    "    'icelandic': 'is', 'igbo': 'ig', 'indonesian': 'id', 'irish': 'ga', 'italian': 'it', 'japanese': 'ja', \n",
    "    'javanese': 'jw', 'kannada': 'kn', 'kazakh': 'kk', 'khmer': 'km', 'korean': 'ko', 'kurdish (kurmanji)': 'ku', \n",
    "    'kyrgyz': 'ky', 'lao': 'lo', 'latin': 'la', 'latvian': 'lv', 'lithuanian': 'lt', 'luxembourgish': 'lb', \n",
    "    'macedonian': 'mk', 'malagasy': 'mg', 'malay': 'ms', 'malayalam': 'ml', 'maltese': 'mt', 'maori': 'mi', \n",
    "    'marathi': 'mr', 'mongolian': 'mn', 'myanmar (burmese)': 'my', 'nepali': 'ne', 'norwegian': 'no', \n",
    "    'odia': 'or', 'pashto': 'ps', 'persian': 'fa', 'polish': 'pl', 'portuguese': 'pt', 'punjabi': 'pa', \n",
    "    'romanian': 'ro', 'russian': 'ru', 'samoan': 'sm', 'scots gaelic': 'gd', 'serbian': 'sr', 'sesotho': 'st', \n",
    "    'shona': 'sn', 'sindhi': 'sd', 'sinhala': 'si', 'slovak': 'sk', 'slovenian': 'sl', 'somali': 'so', \n",
    "    'spanish': 'es', 'sundanese': 'su', 'swahili': 'sw', 'swedish': 'sv', 'tajik': 'tg', 'tamil': 'ta', \n",
    "    'telugu': 'te', 'thai': 'th', 'turkish': 'tr', 'ukrainian': 'uk', 'urdu': 'ur', 'uyghur': 'ug', 'uzbek': 'uz', \n",
    "    'vietnamese': 'vi', 'welsh': 'cy', 'xhosa': 'xh', 'yiddish': 'yi', 'yoruba': 'yo', 'zulu': 'zu'\n",
    "}"
   ]
  },
  {
   "cell_type": "code",
   "execution_count": 32,
   "metadata": {},
   "outputs": [],
   "source": [
    "def takecommand():\n",
    "    r = Recognizer()\n",
    "    with  Microphone() as source:\n",
    "        print(\"Listening...\")\n",
    "        r.pause_threshold = 1\n",
    "        audio = r.listen(source)\n",
    "\n",
    "    try:\n",
    "        print(\"Recognizing....\")\n",
    "        query = r.recognize_whisper(audio, language=\"english\")\n",
    "        print(f\"You said : {query}\\n\")\n",
    "    except Exception as e:\n",
    "        print(\"Say that again please..\")    \n",
    "        return \"None\"\n",
    "    return query"
   ]
  },
  {
   "cell_type": "code",
   "execution_count": 33,
   "metadata": {},
   "outputs": [
    {
     "name": "stdout",
     "output_type": "stream",
     "text": [
      "Listening...\n",
      "Recognizing....\n",
      "You said :  In the 1600s, the Dutch East India Company employed hundreds of ships to trade gold, porcelain, spices and silks around the globe.\n",
      "\n"
     ]
    }
   ],
   "source": [
    "query = takecommand()\n",
    "while(query == \"None\"):\n",
    "    query = takecommand()"
   ]
  },
  {
   "cell_type": "code",
   "execution_count": 34,
   "metadata": {},
   "outputs": [],
   "source": [
    "def destination_language():\n",
    "    print(\"Enter the translation language E.g, Hindi, English etc\")\n",
    "\n",
    "    to_lang = takecommand()\n",
    "    while(to_lang == \"None\"):\n",
    "        to_lang = takecommand()\n",
    "    to_lang = to_lang.lower().replace(\".\", \"\").replace(\" \", \"\")\n",
    "    return to_lang"
   ]
  },
  {
   "cell_type": "code",
   "execution_count": 35,
   "metadata": {},
   "outputs": [
    {
     "name": "stdout",
     "output_type": "stream",
     "text": [
      "Enter the translation language E.g, Hindi, English etc\n",
      "Listening...\n",
      "Recognizing....\n",
      "You said :  I'll check out another one.\n",
      "\n",
      "you selected i'llcheckoutanotherone\n",
      "None\n",
      "Selected language is not available, please select a different language\n",
      "Enter the translation language E.g, Hindi, English etc\n",
      "Listening...\n",
      "Recognizing....\n",
      "You said :  Hindi.\n",
      "\n"
     ]
    }
   ],
   "source": [
    "to_lang = destination_language()\n",
    "\n",
    "print(f\"you selected {to_lang}\")\n",
    "print(dic.get(to_lang))\n",
    "\n",
    "while(dic.get(to_lang) == None):\n",
    "    print(\"Selected language is not available, please select a different language\")\n",
    "    to_lang = destination_language()\n",
    "\n",
    "to_lang = dic[to_lang]\n"
   ]
  },
  {
   "cell_type": "code",
   "execution_count": 36,
   "metadata": {},
   "outputs": [
    {
     "name": "stdout",
     "output_type": "stream",
     "text": [
      "1600 के दशक में, डच ईस्ट इंडिया कंपनी ने दुनिया भर में सोने, चीनी मिट्टी के बरतन, मसालों और सिल्क्स का व्यापार करने के लिए सैकड़ों जहाजों को नियुक्त किया।\n"
     ]
    }
   ],
   "source": [
    "translator = Translator()\n",
    "text_to_translate = translator.translate(query, dest=to_lang)\n",
    "text = text_to_translate.text\n",
    "print(text)"
   ]
  },
  {
   "cell_type": "code",
   "execution_count": 37,
   "metadata": {},
   "outputs": [],
   "source": [
    "speak = gTTS(text=text, lang=to_lang)\n",
    "speak.save(\"voice.mp3\")\n",
    "playaudio(\"voice.mp3\")\n",
    "os.remove(\"voice.mp3\")"
   ]
  },
  {
   "cell_type": "code",
   "execution_count": null,
   "metadata": {},
   "outputs": [],
   "source": []
  }
 ],
 "metadata": {
  "kernelspec": {
   "display_name": "venv",
   "language": "python",
   "name": "python3"
  },
  "language_info": {
   "codemirror_mode": {
    "name": "ipython",
    "version": 3
   },
   "file_extension": ".py",
   "mimetype": "text/x-python",
   "name": "python",
   "nbconvert_exporter": "python",
   "pygments_lexer": "ipython3",
   "version": "3.11.7"
  }
 },
 "nbformat": 4,
 "nbformat_minor": 2
}
