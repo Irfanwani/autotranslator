{
 "cells": [
  {
   "cell_type": "code",
   "execution_count": 27,
   "metadata": {},
   "outputs": [],
   "source": [
    "from playsound import playsound\n",
    "from speech_recognition import Recognizer, Microphone\n",
    "from googletrans import Translator\n",
    "from  gtts import gTTS\n",
    "import os"
   ]
  },
  {
   "cell_type": "code",
   "execution_count": 28,
   "metadata": {},
   "outputs": [],
   "source": [
    "dic=('afrikaans', 'af', 'albanian', 'sq', 'amharic', 'am', \n",
    "\t'arabic', 'ar', 'armenian', 'hy', 'azerbaijani', 'az', \n",
    "'basque', 'eu', 'belarusian', 'be', 'bengali', 'bn', 'bosnian', \n",
    "\t'bs', 'bulgarian', 'bg', 'catalan', 'ca', \n",
    "'cebuano', 'ceb', 'chichewa', 'ny', 'chinese (simplified)', \n",
    "\t'zh-cn', 'chinese (traditional)', 'zh-tw', \n",
    "'corsican', 'co', 'croatian', 'hr', 'czech', 'cs', 'danish', \n",
    "\t'da', 'dutch', 'nl', 'english', 'en', 'esperanto', \n",
    "'eo', 'estonian', 'et', 'filipino', 'tl', 'finnish', 'fi', \n",
    "\t'french', 'fr', 'frisian', 'fy', 'galician', 'gl', \n",
    "'georgian', 'ka', 'german', 'de', 'greek', 'el', 'gujarati', \n",
    "\t'gu', 'haitian creole', 'ht', 'hausa', 'ha', \n",
    "'hawaiian', 'haw', 'hebrew', 'he', 'hindi', 'hi', 'hmong', \n",
    "\t'hmn', 'hungarian', 'hu', 'icelandic', 'is', 'igbo', \n",
    "'ig', 'indonesian', 'id', 'irish', 'ga', 'italian', 'it', \n",
    "\t'japanese', 'ja', 'javanese', 'jw', 'kannada', 'kn', \n",
    "'kazakh', 'kk', 'khmer', 'km', 'korean', 'ko', 'kurdish (kurmanji)', \n",
    "\t'ku', 'kyrgyz', 'ky', 'lao', 'lo', \n",
    "'latin', 'la', 'latvian', 'lv', 'lithuanian', 'lt', 'luxembourgish', \n",
    "\t'lb', 'macedonian', 'mk', 'malagasy', \n",
    "'mg', 'malay', 'ms', 'malayalam', 'ml', 'maltese', 'mt', 'maori', \n",
    "\t'mi', 'marathi', 'mr', 'mongolian', 'mn', \n",
    "'myanmar (burmese)', 'my', 'nepali', 'ne', 'norwegian', 'no', \n",
    "\t'odia', 'or', 'pashto', 'ps', 'persian', \n",
    "'fa', 'polish', 'pl', 'portuguese', 'pt', 'punjabi', 'pa', \n",
    "\t'romanian', 'ro', 'russian', 'ru', 'samoan', \n",
    "'sm', 'scots gaelic', 'gd', 'serbian', 'sr', 'sesotho', \n",
    "\t'st', 'shona', 'sn', 'sindhi', 'sd', 'sinhala', \n",
    "'si', 'slovak', 'sk', 'slovenian', 'sl', 'somali', 'so', \n",
    "\t'spanish', 'es', 'sundanese', 'su', \n",
    "'swahili', 'sw', 'swedish', 'sv', 'tajik', 'tg', 'tamil', \n",
    "\t'ta', 'telugu', 'te', 'thai', 'th', 'turkish', 'tr', \n",
    "'ukrainian', 'uk', 'urdu', 'ur', 'uyghur', 'ug', 'uzbek', \n",
    "\t'uz', 'vietnamese', 'vi', 'welsh', 'cy', 'xhosa', 'xh', \n",
    "'yiddish', 'yi', 'yoruba', 'yo', 'zulu', 'zu')\n"
   ]
  },
  {
   "cell_type": "code",
   "execution_count": 29,
   "metadata": {},
   "outputs": [],
   "source": [
    "def takecommand():\n",
    "    r = Recognizer()\n",
    "    with  Microphone() as source:\n",
    "        print(\"Listening...\")\n",
    "        r.pause_threshold = 1\n",
    "        audio = r.listen(source)\n",
    "\n",
    "    try:\n",
    "        print(\"Recognizing....\")\n",
    "        query = r.recognize_whisper(audio, language=\"english\")\n",
    "        print(f\"You said : {query}\\n\")\n",
    "    except Exception as e:\n",
    "        print(\"Say that again please..\")    \n",
    "        return \"None\"\n",
    "    return query"
   ]
  },
  {
   "cell_type": "code",
   "execution_count": 31,
   "metadata": {},
   "outputs": [
    {
     "name": "stdout",
     "output_type": "stream",
     "text": [
      "Listening...\n",
      "Recognizing....\n",
      "You said :  Hello, my name is Irfan.\n",
      "\n"
     ]
    }
   ],
   "source": [
    "query = takecommand()\n",
    "while(query == \"None\"):\n",
    "    query = takecommand()"
   ]
  },
  {
   "cell_type": "code",
   "execution_count": null,
   "metadata": {},
   "outputs": [],
   "source": []
  }
 ],
 "metadata": {
  "kernelspec": {
   "display_name": "venv",
   "language": "python",
   "name": "python3"
  },
  "language_info": {
   "codemirror_mode": {
    "name": "ipython",
    "version": 3
   },
   "file_extension": ".py",
   "mimetype": "text/x-python",
   "name": "python",
   "nbconvert_exporter": "python",
   "pygments_lexer": "ipython3",
   "version": "3.11.7"
  }
 },
 "nbformat": 4,
 "nbformat_minor": 2
}
